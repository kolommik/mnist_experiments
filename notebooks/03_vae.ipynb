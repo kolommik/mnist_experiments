{
 "cells": [
  {
   "cell_type": "markdown",
   "metadata": {},
   "source": [
    "\n",
    "## Полезные ссылки и литература\n",
    "\n",
    "#### Этот блокнот основан на посте:\n",
    "https://github.com/msurtsukov/ae_vae_gan/blob/master/VAE.ipynb  \n",
    "Можно сказать что это репост кода + некая творческай постобработка.\n",
    "\n",
    "#### Литература и ссылки из поста:\n",
    "Теоретическая часть основана на статье:  \n",
    "[1] Tutorial on Variational Autoencoders, Carl Doersch, 2016, https://arxiv.org/abs/1606.05908  \n",
    "и фактически является ее кратким изложением\n",
    "\n",
    "Многие картинки взяты из блога Isaac Dykeman:  \n",
    "[2] Isaac Dykeman, http://ijdykeman.github.io/ml/2016/12/21/cvae.html  \n",
    "\n",
    "Подробнее прочитать про расстояние Кульбака-Лейблера на русском можно здесь   \n",
    "[3] http://www.machinelearning.ru/wiki/images/d/d0/BMMO11_6.pdf  \n",
    "\n",
    "Код частично основан на статье *Francois Chollet*:  \n",
    "[4] https://blog.keras.io/building-autoencoders-in-keras.html  \n",
    "\n",
    "Другие интересные ссылки:  \n",
    "http://blog.fastforwardlabs.com/2016/08/12/introducing-variational-autoencoders-in-prose-and.html  \n",
    "http://kvfrans.com/variational-autoencoders-explained/  "
   ]
  },
  {
   "cell_type": "code",
   "execution_count": null,
   "metadata": {},
   "outputs": [],
   "source": [
    "%load_ext autoreload\n",
    "%autoreload 2"
   ]
  },
  {
   "cell_type": "code",
   "execution_count": 4,
   "metadata": {},
   "outputs": [
    {
     "ename": "ModuleNotFoundError",
     "evalue": "No module named 'keras.objectives'",
     "output_type": "error",
     "traceback": [
      "\u001b[1;31m---------------------------------------------------------------------------\u001b[0m",
      "\u001b[1;31mModuleNotFoundError\u001b[0m                       Traceback (most recent call last)",
      "\u001b[1;32m~\\AppData\\Local\\Temp\\ipykernel_385828\\3150994284.py\u001b[0m in \u001b[0;36m<module>\u001b[1;34m\u001b[0m\n\u001b[0;32m     12\u001b[0m \u001b[1;32mfrom\u001b[0m \u001b[0mkeras\u001b[0m \u001b[1;32mimport\u001b[0m \u001b[0mbackend\u001b[0m \u001b[1;32mas\u001b[0m \u001b[0mK\u001b[0m\u001b[1;33m\u001b[0m\u001b[1;33m\u001b[0m\u001b[0m\n\u001b[0;32m     13\u001b[0m \u001b[1;33m\u001b[0m\u001b[0m\n\u001b[1;32m---> 14\u001b[1;33m \u001b[1;32mfrom\u001b[0m \u001b[0mkeras\u001b[0m\u001b[1;33m.\u001b[0m\u001b[0mobjectives\u001b[0m \u001b[1;32mimport\u001b[0m \u001b[0mbinary_crossentropy\u001b[0m\u001b[1;33m\u001b[0m\u001b[1;33m\u001b[0m\u001b[0m\n\u001b[0m\u001b[0;32m     15\u001b[0m \u001b[1;32mfrom\u001b[0m \u001b[0mkeras\u001b[0m\u001b[1;33m.\u001b[0m\u001b[0mlayers\u001b[0m\u001b[1;33m.\u001b[0m\u001b[0madvanced_activations\u001b[0m \u001b[1;32mimport\u001b[0m \u001b[0mLeakyReLU\u001b[0m\u001b[1;33m\u001b[0m\u001b[1;33m\u001b[0m\u001b[0m\n\u001b[0;32m     16\u001b[0m \u001b[1;33m\u001b[0m\u001b[0m\n",
      "\u001b[1;31mModuleNotFoundError\u001b[0m: No module named 'keras.objectives'"
     ]
    }
   ],
   "source": [
    "import datetime\n",
    "\n",
    "import numpy as np\n",
    "import matplotlib.pyplot as plt\n",
    "import seaborn as sns\n",
    "\n",
    "import tensorflow as tf\n",
    "\n",
    "from keras.layers import Input, Dense \n",
    "from keras.layers import BatchNormalization, Dropout, Flatten, Reshape, Lambda\n",
    "from keras.models import Model\n",
    "from keras import backend as K\n",
    "\n",
    "from keras.objectives import binary_crossentropy\n",
    "from keras.layers.advanced_activations import LeakyReLU\n",
    "\n",
    "from data.get_data import get_mnist\n",
    "from visualization.plot_graph import plot_digits\n",
    "\n",
    "%matplotlib inline"
   ]
  },
  {
   "cell_type": "markdown",
   "metadata": {},
   "source": [
    "# Часть 3: Вариационные автоэнкодеры (VAE)"
   ]
  },
  {
   "cell_type": "markdown",
   "metadata": {},
   "source": [
    "В прошлой части мы уже обсуждали, что такое скрытые переменные, взглянули на их распределение, а так же поняли, что из распределения скрытых переменных в обычных автоэнкодерах сложно генерировать новые объекты. Для того, чтобы можно было генерировать новые объекты, пространство *скрытых переменных* (*latent variables*) должно быть предсказуемым. \n",
    "\n",
    "Имея какое-то одно распределение $Z$ можно получить произвольное другое $X = g(Z)$, например,\n",
    "\n",
    "пусть $Z$ - обычное нормальное распределение, $g(Z) = \\frac{Z}{|Z|}+ \\frac{Z}{10}$ - тоже случайное распределение, но выглядит совсем по другому"
   ]
  },
  {
   "cell_type": "code",
   "execution_count": 2,
   "metadata": {},
   "outputs": [
    {
     "data": {
      "text/plain": [
       "(-2.0, 2.0)"
      ]
     },
     "execution_count": 2,
     "metadata": {},
     "output_type": "execute_result"
    },
    {
     "data": {
      "image/png": "[encoded data removed]",
      "text/plain": [
       "<Figure size 1152x576 with 2 Axes>"
      ]
     },
     "metadata": {
      "needs_background": "light"
     },
     "output_type": "display_data"
    }
   ],
   "source": [
    "Z = np.random.randn(150, 2)\n",
    "X = Z/(np.sqrt(np.sum(Z*Z, axis=1))[:, None]) + Z/10\n",
    "\n",
    "fig, axs = plt.subplots(1, 2, sharex=False, figsize=(16,8))\n",
    "\n",
    "ax = axs[0]\n",
    "ax.scatter(Z[:,0], Z[:,1])\n",
    "ax.grid(True)\n",
    "ax.set_xlim(-5, 5)\n",
    "ax.set_ylim(-5, 5)\n",
    "\n",
    "ax = axs[1]\n",
    "ax.scatter(X[:,0], X[:,1])\n",
    "ax.grid(True)\n",
    "ax.set_xlim(-2, 2)\n",
    "ax.set_ylim(-2, 2)"
   ]
  },
  {
   "cell_type": "markdown",
   "metadata": {},
   "source": [
    "Пример выше из ***[1]***\n",
    "\n",
    "Таким образом, если подобрать правильные функции, то можно отобразить пространства скрытых переменных обычных автоэнкодеров в какие-то хорошие пространства, например такие, где распределение нормально. А потом обратно.\n",
    "\n",
    "С другой стороны специально учиться отображать одни скрытые пространства в другие вовсе не обязательно. Если есть какие-то полезные скрытые пространства, то правильный автоэнкодер научится им по пути сам, но отображать, в конечно итоге, будет в нужное нам пространство."
   ]
  },
  {
   "cell_type": "markdown",
   "metadata": {},
   "source": [
    "***Вариационные автоэнкодеры*** (*Variational Autoencoders*) - это автоэнкодеры, которые учатся отображать объекты в заданное скрытое пространство и, соответственно, сэмплить из него. Поэтому *вариационные автоэнкодеры* относят так же к семейству генеративных моделей."
   ]
  },
  {
   "cell_type": "markdown",
   "metadata": {},
   "source": [
    "![](pics/03_vae_vae_diagram.png)  \n",
    "\n",
    "Иллюстрация из ***[2]***"
   ]
  },
  {
   "cell_type": "markdown",
   "metadata": {},
   "source": [
    "Далее выжимка теории из ***[1]*** лежащая в основе *VAE*."
   ]
  },
  {
   "cell_type": "markdown",
   "metadata": {},
   "source": [
    "Пусть $Z$ - скрытые переменные, а $X$ - данные. \n",
    "На примере нарисованых цифр рассмотрим естесственный генеративный процесс, который сгенерировал нашу выборку:\n",
    "$$\n",
    "P(X) = \\int_{z} P(X|Z)P(Z)dZ\n",
    "$$\n",
    "\n",
    "- $P(X)$ вероятностное распределение изображений цифр на картинках, т.е. вероятность конкретного изображения цифры впринципе быть нарисованым (если картинка не похожа на цифру, то эта вероятность крайне мала, и наоборот),\n",
    "- $P(Z)$ - вероятностное распределение скрытых факторов, например, распределение толщины штриха,\n",
    "- $P(X|Z)$ - распределение вероятности картинок при заданных скрытых факторах, одни и те же факторы могут привезти к разным картинкам (один и тот же человек в одних и тех же условиях не рисует абсолютно одинаковые цифры)\n",
    "\n",
    "Представим $P(X|Z)$ как сумму некоторой генерирующей функции $f(Z)$ и некоторого сложного шума $\\epsilon$\n",
    "\n",
    "$$\n",
    "P(X|Z) = f(Z) + \\epsilon\n",
    "$$\n",
    "\n",
    "Мы хотим построить некоторый искусственный генеративный процесс, который будет создавать объекты близкие в некоторой метрике к тренировачным $X$.\n",
    "\n",
    "$$\n",
    "P(X;\\theta) = \\int_{z} P(X|Z;\\theta)P(Z)dZ \\ \\ \\ (1)\n",
    "$$\n",
    "и снова\n",
    "$$\n",
    "P(X|Z;\\theta) = f(Z;\\theta) + \\epsilon\n",
    "$$\n",
    "\n",
    "$f(Z;\\theta)$ - некоторое семейсто функций, которое представляет наша модель, а $\\theta$ - ее параметры. Выбирая метрику - мы выбираем то, какого вида нам представляется шум $\\epsilon$. Если метрика $L_2$, то мы считаем шум нормальным и тогда:\n",
    "\n",
    "$$\n",
    "P(X|Z;\\theta) = N(X|f(Z;\\theta), \\sigma^2 I),\n",
    "$$\n",
    "\n",
    "По принципу максимального правдоподобия нам остается оптимизировать параметры $\\theta$ для того, чтобы максимизировать $P(X)$, т.е. вероятность появления объектов из выборки."
   ]
  },
  {
   "cell_type": "markdown",
   "metadata": {},
   "source": [
    "Проблема в том, что оптимизировтаь интеграл (1) напрямую мы не можем: пространство может быть высокоразмерное, объектов много, да и метрика плохая. С другой стороны, если задуматься, то к каждому конкретному $X$ может привезти лишь очень небольшое подмножество $Z$, для остальных же $P(X|Z)$ будет очень близок к нулю. \n",
    "И при оптимизации достаточно сэмплить только из хороших $Z$.\n",
    "\n",
    "Для того чтобы знать из каких $Z$ нам надо сэмплить, введем новое распределение $Q(Z|X)$, которое в зависимости от $X$ будет показывать распределение $Z \\sim Q$, которое могло привезти к этому $X$."
   ]
  },
  {
   "cell_type": "markdown",
   "metadata": {},
   "source": [
    "Запишем сперва расстояние Кульбака-Лейблера (несимметричная мера \"похожести\" двух распределений, подробнее ***[3]***) между\n",
    "$Q(Z|X)$ и реальным $P(Z|X)$:\n",
    "\n",
    "$$\n",
    "KL[Q(Z|X)||P(Z|X)] = \\mathbb{E}_{Z \\sim Q}[\\log Q(Z|X) - \\log P(Z|X)]\n",
    "$$\n",
    "\n",
    "Применяем формулу Байеса:\n",
    "\n",
    "$$\n",
    "KL[Q(Z|X)||P(Z|X)] = \\mathbb{E}_{Z \\sim Q}[\\log Q(Z|X) - \\log P(X|Z) - \\log P(Z)] + \\log P(X)\n",
    "$$\n",
    "\n",
    "Выделяем еще одно расстояние Кульбака-Лейблера:\n",
    "\n",
    "$$\n",
    "KL[Q(Z|X)||P(Z|X)] = KL[Q(Z|X)||\\log P(Z)] - \\mathbb{E}_{Z \\sim Q}[\\log P(X|Z)] + \\log P(X)\n",
    "$$\n",
    "\n",
    "В итоге получаем тождество:\n",
    "\n",
    "$$\n",
    "\\log P(X) - KL[Q(Z|X)||P(Z|X)] = \\mathbb{E}_{Z \\sim Q}[\\log P(X|Z)] - KL[Q(Z|X)||P(Z)]\n",
    "$$\n"
   ]
  },
  {
   "cell_type": "markdown",
   "metadata": {},
   "source": [
    "Это тождество - краеугольный камень *вариационных автоэнкодеров*, оно верно для любых $Q(Z|X)$ и $P(X,Z)$.\n",
    "\n",
    "Пусть $Q(Z|X)$ и $P(X|Z)$ зависят от параметров: $Q(Z|X;\\theta_1)$ и $P(X|Z;\\theta_2)$, а $P(Z)$ - нормальное $N(0,I)$, тогда получаем:\n",
    "\n",
    "$$\n",
    "\\log P(X;\\theta_2) - KL[Q(Z|X;\\theta_1)||P(Z|X;\\theta_2)] = \\mathbb{E}_{Z \\sim Q}[\\log P(X|Z;\\theta_2)] - KL[Q(Z|X;\\theta_1)||N(0,I)]\n",
    "$$"
   ]
  },
  {
   "cell_type": "markdown",
   "metadata": {},
   "source": [
    "Взглянем повнимательнее на то, что у нас получилось:\n",
    "- во-первых, $Q(Z|X;\\theta_1)$, $P(X|Z;\\theta_2)$ подозрительно похожи на энкодер и декодер (точнее декодер это $f$ в выражении $P(X|Z;\\theta_2) = f(Z;\\theta_2) + \\epsilon$)\n",
    "- слева в тождестве - значение, которое мы хотим максимизировать для элементов нашей тренировачной выборки $X$ + некоторая ошибка $KL$ ($KL(x,y) \\ge 0 \\ \\ \\forall x,y$), которая, будем надеяться, при достаточной емкости $Q$ уйдет в 0,\n",
    "- справа значение, которое мы можем оптимизировать градиентным спуском, где первый член имеет смысл качества предсказания $X$ декодером по значениям $Z$, а второй член, это расстояние К-Л между распределением $Z \\sim Q$, которое предсказывает энкодер для конкретного $X$, и распределением $Z$ для всех $X$ сразу"
   ]
  },
  {
   "cell_type": "markdown",
   "metadata": {},
   "source": [
    "Для того, чтобы иметь возможность оптимизировать правую часть градиентным спуском, осталось разобраться с двумя вещами:\n",
    "#### 1. Точнее определим что такое $Q(Z|X;\\theta_1)$\n",
    "Обычно $Q$ выбирается нормальным распределением:\n",
    "\n",
    "$$\n",
    "Q(Z|X;\\theta_1) = N(\\mu(X;\\theta_1), \\Sigma(X;\\theta_1))\n",
    "$$\n",
    "То есть энкодер для каждого $X$ предсказывает 2 значения: среднее $\\mu$ и вариацию $\\Sigma$ нормального распределения, из которого уже сэмплируются значения. Работает это все примерно вот так:   \n",
    "![](pics/03_vae_encoder_vae_diagram.png)  \n",
    "Иллюстрация из ***[2]***\n",
    "\n",
    "\n",
    "При том, что для каждой отдельной точки данных $X$ энкодер предсказывает некоторое нормальное распределение $P(Z|X) = N(\\mu(X), \\Sigma(X))$, для априорного распределения $Х$: $P(Z) = N(0, I)$, что получается из формулы, и это потрясающе.  \n",
    "![](pics/03_vae_kl_divergence_diagram.png)  \n",
    "Иллюстрация из ***[2]***\n",
    "\n",
    "\n",
    "При этом $KL[Q(Z|X;\\theta_1)||N(0,I)]$ принимает вид:  \n",
    "\n",
    "$$\n",
    "KL[Q(Z|X;\\theta_1)||N(0,I)] = \\frac{1}{2}\\left(tr(\\Sigma(X)) + \\mu(X)^T\\mu(X) - k - \\log \\det \\Sigma(X) \\right)\n",
    "$$\n",
    "\n",
    "#### 2. Разберемся с тем, как распространять ошибки через $\\mathbb{E}_{Z \\sim Q}[\\log P(X|Z;\\theta_2)]$\n",
    "Дело в том, что здесь мы берем случайные значения $Z \\sim Q(Z|X;\\theta_1)$ и передаем их в декодер.\n",
    "Ясно, что распросранять ошибки через случайные значения напрямую нельзя, поэтому используется так называемый *трюк с репараметризацией* (*reparametrization trick*).\n",
    "\n",
    "Схема получается вот такая:  \n",
    "![](pics/03_vae_reparam_trick.png)  \n",
    "Иллюстрация из ***[1]***\n",
    "\n",
    "Здесь на левой картинке схема без трюка, а на правой с трюком.\n",
    "Красным цветом показано семплирование, а синим вычисление ошибки.  \n",
    "То есть по сути просто берем предсказанное энкодером стандартное отклонение $\\Sigma$ умножаем на случайное число из $N(0,I)$ и добавляем предсказанное среднее $\\mu$.\n",
    "\n",
    "Прямое растространение на обеих схемах абсолютно одинаковое, однако на правой схеме работает обратное распространение ошибки."
   ]
  },
  {
   "cell_type": "markdown",
   "metadata": {},
   "source": [
    "После того, как мы обучили такой вариационный автоэнкодер, декодер становится полноправной генеративной моделью. По сути и энкодер то нужен в основном для того, чтобы обучить декодер отдельно быть генеративной моделью.  \n",
    "![](pics/03_vae_vae_decoder_diagram.png)  \n",
    "Иллюстрация из ***[2]***  \n",
    "<img src=\"./pics/03_vae_generator.png\" width=\"300\"/>  \n",
    "Иллюстрация из ***[1]***  \n",
    "\n",
    "Но то, что энкодер и декодер вместо образуют еще и полноценный автоэнкодер, это очень приятный плюс."
   ]
  },
  {
   "cell_type": "markdown",
   "metadata": {},
   "source": [
    "# VAE в Keras "
   ]
  },
  {
   "cell_type": "markdown",
   "metadata": {},
   "source": [
    "Теперь, когда мы разобрались в том, что такое вариационные автоэнкодеры, напишем такой на *Keras*"
   ]
  },
  {
   "cell_type": "markdown",
   "metadata": {},
   "source": [
    "Зададим основные параметры. Скрытое пространство возьмем размерности 2, чтобы позже генерировать из него и визуализировать результат.  \n",
    "***Замечание***: размерность 2 крайне мала, особенно в метрике $L_2$, поэтому следует ожидать, что цифры получатся очень размытыми."
   ]
  },
  {
   "cell_type": "code",
   "execution_count": null,
   "metadata": {},
   "outputs": [],
   "source": [
    "batch_size = 500\n",
    "latent_dim = 2\n",
    "dropout_rate = 0.3\n",
    "start_lr = 0.0001"
   ]
  },
  {
   "cell_type": "markdown",
   "metadata": {},
   "source": [
    "Напишем модели вариационного автоэнкодера. \n",
    "\n",
    "Для того, чтобы обучение происходило быстрее и более качественно, добавим слои *dropout* и *batch normalization*.\n",
    "А в декодере используем в качестве активации *leaky ReLU*, которую добавляем отдельным слоем после *dense* слоев без активации.\n",
    "\n",
    "Функция *sampling* реализует сэмплирование значений $Z$ из $Q(X)$ с использованием трюка репараметризации.\n",
    "\n",
    "*vae_loss* это правая часть из уравнения:\n",
    "\n",
    "$$\n",
    "\\log P(X;\\theta_2) - KL[Q(Z|X;\\theta_1)||P(Z|X;\\theta_2)] = \\mathbb{E}_{Z \\sim Q}[\\log P(X|Z;\\theta_2)] - \\left(\\frac{1}{2}\\left(tr(\\Sigma(X)) + \\mu(X)^T\\mu(X) - k - \\log \\det \\Sigma(X) \\right)\\right)\n",
    "$$\n",
    "\n",
    "далее будет использоваться в качестве лосса."
   ]
  },
  {
   "cell_type": "code",
   "execution_count": null,
   "metadata": {},
   "outputs": [],
   "source": [
    "x_train, y_train, x_test, y_test = get_mnist()"
   ]
  }
 ],
 "metadata": {
  "kernelspec": {
   "display_name": "Python 3.7.9 ('.venv': poetry)",
   "language": "python",
   "name": "python3"
  },
  "language_info": {
   "codemirror_mode": {
    "name": "ipython",
    "version": 3
   },
   "file_extension": ".py",
   "mimetype": "text/x-python",
   "name": "python",
   "nbconvert_exporter": "python",
   "pygments_lexer": "ipython3",
   "version": "3.7.9"
  },
  "orig_nbformat": 4,
  "vscode": {
   "interpreter": {
    "hash": "ed486ebbbdc0438c1b4f4b5b633ea9fe4615f70e6277031c76f6fe74793f32cc"
   }
  }
 },
 "nbformat": 4,
 "nbformat_minor": 2
}
