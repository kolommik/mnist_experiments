{
 "cells": [
  {
   "cell_type": "markdown",
   "metadata": {},
   "source": [
    "# Способы регуляризации и инициализации\n",
    "\n",
    "Примеры к книге \"Глубокое обучение. Погружение в мир нейронных сетей\" (Николенко, Кадурин, Архангельская).  \n",
    "Глава 4.  \n",
    "В книге старая версия tf 1, потому примеры переписаны на keras (tf 2).  "
   ]
  },
  {
   "cell_type": "code",
   "execution_count": 1,
   "metadata": {},
   "outputs": [],
   "source": [
    "%load_ext tensorboard"
   ]
  },
  {
   "cell_type": "code",
   "execution_count": 2,
   "metadata": {},
   "outputs": [
    {
     "name": "stderr",
     "output_type": "stream",
     "text": [
      "d:\\9-GitHubR\\gh_mnist_experiments\\mnist_experiments\\.venv\\lib\\site-packages\\tqdm\\auto.py:22: TqdmWarning: IProgress not found. Please update jupyter and ipywidgets. See https://ipywidgets.readthedocs.io/en/stable/user_install.html\n",
      "  from .autonotebook import tqdm as notebook_tqdm\n"
     ]
    }
   ],
   "source": [
    "import datetime\n",
    "\n",
    "import numpy as np\n",
    "import pandas as pd\n",
    "import matplotlib.pyplot as plt\n",
    "import seaborn as sns\n",
    "\n",
    "import tensorflow as tf\n",
    "import keras.backend as K\n",
    "from keras.layers import Input, Dense, Flatten, Reshape, Dropout\n",
    "from keras.models import Model \n",
    "from keras.layers import Conv2D, MaxPooling2D, UpSampling2D, Lambda\n",
    "from keras.regularizers import L1L2\n",
    "\n",
    "from tqdm.keras import TqdmCallback\n",
    "\n",
    "from visualization.plot_graph import plot_digits, plot_digits_page\n",
    "from data.get_data import get_mnist"
   ]
  },
  {
   "cell_type": "code",
   "execution_count": 3,
   "metadata": {},
   "outputs": [],
   "source": [
    "# Load MNIST\n",
    "x_train, y_train, x_test, y_test = get_mnist()"
   ]
  },
  {
   "cell_type": "markdown",
   "metadata": {},
   "source": [
    "# Разные способы инициализации сети"
   ]
  },
  {
   "cell_type": "code",
   "execution_count": 5,
   "metadata": {},
   "outputs": [],
   "source": [
    "def create_model(init_weights:str = \"uniform\", activation:str = \"tanh\"):\n",
    "    input_img = Input(shape=(28, 28, 1))\n",
    "    flat_img = Flatten()(input_img)\n",
    "\n",
    "    x = Dense(100, activation=activation, kernel_initializer=init_weights, name=\"dense_1\")(flat_img)\n",
    "    x = Dense(100, activation=activation, kernel_initializer=init_weights, name=\"dense_2\")(x)\n",
    "    x = Dense(100, activation=activation, kernel_initializer=init_weights, name=\"dense_3\")(x)\n",
    "    x = Dense(100, activation=activation, kernel_initializer=init_weights, name=\"dense_4\")(x)\n",
    "    x = Dense(10, activation=\"softmax\", name=\"final_softmax\")(x)\n",
    "    model = Model(input_img, x, name = \"model\")\n",
    "\n",
    "    return model"
   ]
  },
  {
   "cell_type": "code",
   "execution_count": 6,
   "metadata": {},
   "outputs": [
    {
     "name": "stdout",
     "output_type": "stream",
     "text": [
      "Model: \"model\"\n",
      "_________________________________________________________________\n",
      " Layer (type)                Output Shape              Param #   \n",
      "=================================================================\n",
      " input_1 (InputLayer)        [(None, 28, 28, 1)]       0         \n",
      "                                                                 \n",
      " flatten (Flatten)           (None, 784)               0         \n",
      "                                                                 \n",
      " dense_1 (Dense)             (None, 100)               78500     \n",
      "                                                                 \n",
      " dense_2 (Dense)             (None, 100)               10100     \n",
      "                                                                 \n",
      " dense_3 (Dense)             (None, 100)               10100     \n",
      "                                                                 \n",
      " dense_4 (Dense)             (None, 100)               10100     \n",
      "                                                                 \n",
      " final_softmax (Dense)       (None, 10)                1010      \n",
      "                                                                 \n",
      "=================================================================\n",
      "Total params: 109,810\n",
      "Trainable params: 109,810\n",
      "Non-trainable params: 0\n",
      "_________________________________________________________________\n",
      "None\n"
     ]
    },
    {
     "name": "stderr",
     "output_type": "stream",
     "text": [
      "  0%|          | 0/50 [00:00<?, ?epoch/s]"
     ]
    },
    {
     "name": "stdout",
     "output_type": "stream",
     "text": [
      "WARNING:tensorflow:Callback method `on_train_batch_end` is slow compared to the batch time (batch time: 0.0096s vs `on_train_batch_end` time: 0.0138s). Check your callbacks.\n"
     ]
    },
    {
     "name": "stderr",
     "output_type": "stream",
     "text": [
      "100%|██████████| 50/50 [01:22<00:00,  1.64s/epoch, loss=0.168, accuracy=0.953, val_loss=0.18, val_accuracy=0.948] \n"
     ]
    }
   ],
   "source": [
    "uniform_model = create_model(init_weights=\"uniform\", activation = \"tanh\")\n",
    "uniform_model.compile(optimizer=\"sgd\", loss=\"sparse_categorical_crossentropy\", metrics=[\"accuracy\"])\n",
    "\n",
    "print(uniform_model.summary())\n",
    "\n",
    "# For tensorboard\n",
    "log_dir = \"logs/fit/01_init_uniform/\" + datetime.datetime.now().strftime(\"%Y%m%d-%H%M%S\")\n",
    "tensorboard_callback = tf.keras.callbacks.TensorBoard(log_dir=log_dir, histogram_freq=1)\n",
    "\n",
    "uniform_model_results = uniform_model.fit(x_train, y_train,\n",
    "                epochs=50,\n",
    "                batch_size=256,\n",
    "                shuffle=True,\n",
    "                validation_data=(x_test, y_test),\n",
    "                callbacks=[tensorboard_callback, TqdmCallback(verbose=1)],\n",
    "                verbose=0,\n",
    ")\n",
    "\n",
    "# 1m 25sec"
   ]
  },
  {
   "cell_type": "code",
   "execution_count": 7,
   "metadata": {},
   "outputs": [
    {
     "name": "stdout",
     "output_type": "stream",
     "text": [
      "Model: \"model\"\n",
      "_________________________________________________________________\n",
      " Layer (type)                Output Shape              Param #   \n",
      "=================================================================\n",
      " input_2 (InputLayer)        [(None, 28, 28, 1)]       0         \n",
      "                                                                 \n",
      " flatten_1 (Flatten)         (None, 784)               0         \n",
      "                                                                 \n",
      " dense_1 (Dense)             (None, 100)               78500     \n",
      "                                                                 \n",
      " dense_2 (Dense)             (None, 100)               10100     \n",
      "                                                                 \n",
      " dense_3 (Dense)             (None, 100)               10100     \n",
      "                                                                 \n",
      " dense_4 (Dense)             (None, 100)               10100     \n",
      "                                                                 \n",
      " final_softmax (Dense)       (None, 10)                1010      \n",
      "                                                                 \n",
      "=================================================================\n",
      "Total params: 109,810\n",
      "Trainable params: 109,810\n",
      "Non-trainable params: 0\n",
      "_________________________________________________________________\n",
      "None\n"
     ]
    },
    {
     "name": "stderr",
     "output_type": "stream",
     "text": [
      "100%|██████████| 50/50 [01:19<00:00,  1.59s/epoch, loss=0.127, accuracy=0.964, val_loss=0.139, val_accuracy=0.959]\n"
     ]
    }
   ],
   "source": [
    "# Инициализация Ксавье (Glorot, Xavier)\n",
    "\n",
    "glorot_model = create_model(init_weights=\"glorot_normal\", activation = \"tanh\")\n",
    "glorot_model.compile(optimizer=\"sgd\", loss=\"sparse_categorical_crossentropy\", metrics=[\"accuracy\"])\n",
    "\n",
    "print(glorot_model.summary())\n",
    "\n",
    "# For tensorboard\n",
    "log_dir = \"logs/fit/01_init_glorot/\" + datetime.datetime.now().strftime(\"%Y%m%d-%H%M%S\")\n",
    "tensorboard_callback = tf.keras.callbacks.TensorBoard(log_dir=log_dir, histogram_freq=1)\n",
    "\n",
    "glorot_model_results = glorot_model.fit(x_train, y_train,\n",
    "                epochs=50,\n",
    "                batch_size=256,\n",
    "                shuffle=True,\n",
    "                validation_data=(x_test, y_test),\n",
    "                callbacks=[tensorboard_callback, TqdmCallback(verbose=1)],\n",
    "                verbose=0,\n",
    ")\n",
    "# 1m 20sec"
   ]
  },
  {
   "cell_type": "code",
   "execution_count": 8,
   "metadata": {},
   "outputs": [
    {
     "name": "stdout",
     "output_type": "stream",
     "text": [
      "Model: \"model\"\n",
      "_________________________________________________________________\n",
      " Layer (type)                Output Shape              Param #   \n",
      "=================================================================\n",
      " input_3 (InputLayer)        [(None, 28, 28, 1)]       0         \n",
      "                                                                 \n",
      " flatten_2 (Flatten)         (None, 784)               0         \n",
      "                                                                 \n",
      " dense_1 (Dense)             (None, 100)               78500     \n",
      "                                                                 \n",
      " dense_2 (Dense)             (None, 100)               10100     \n",
      "                                                                 \n",
      " dense_3 (Dense)             (None, 100)               10100     \n",
      "                                                                 \n",
      " dense_4 (Dense)             (None, 100)               10100     \n",
      "                                                                 \n",
      " final_softmax (Dense)       (None, 10)                1010      \n",
      "                                                                 \n",
      "=================================================================\n",
      "Total params: 109,810\n",
      "Trainable params: 109,810\n",
      "Non-trainable params: 0\n",
      "_________________________________________________________________\n",
      "None\n"
     ]
    },
    {
     "name": "stderr",
     "output_type": "stream",
     "text": [
      "  0%|          | 0/50 [00:00<?, ?epoch/s]"
     ]
    },
    {
     "name": "stdout",
     "output_type": "stream",
     "text": [
      "WARNING:tensorflow:Callback method `on_train_batch_end` is slow compared to the batch time (batch time: 0.0086s vs `on_train_batch_end` time: 0.0093s). Check your callbacks.\n"
     ]
    },
    {
     "name": "stderr",
     "output_type": "stream",
     "text": [
      "100%|██████████| 50/50 [01:16<00:00,  1.53s/epoch, loss=0.176, accuracy=0.948, val_loss=0.187, val_accuracy=0.946]\n"
     ]
    }
   ],
   "source": [
    "uniform_relu_model = create_model(init_weights=\"uniform\", activation=\"relu\")\n",
    "uniform_relu_model.compile(optimizer=\"sgd\", loss=\"sparse_categorical_crossentropy\", metrics=[\"accuracy\"])\n",
    "print(uniform_relu_model.summary())\n",
    "\n",
    "# For tensorboard\n",
    "log_dir = \"logs/fit/01_init_uniform_relu/\" + datetime.datetime.now().strftime(\"%Y%m%d-%H%M%S\")\n",
    "tensorboard_callback = tf.keras.callbacks.TensorBoard(log_dir=log_dir, histogram_freq=1)\n",
    "\n",
    "xe_relu_model_results = uniform_relu_model.fit(x_train, y_train,\n",
    "                epochs=50,\n",
    "                batch_size=256,\n",
    "                shuffle=True,\n",
    "                validation_data=(x_test, y_test),\n",
    "                callbacks=[tensorboard_callback, TqdmCallback(verbose=1)],\n",
    "                verbose=0,\n",
    ")\n",
    "\n",
    "# 1m 17sec"
   ]
  },
  {
   "cell_type": "code",
   "execution_count": 9,
   "metadata": {},
   "outputs": [
    {
     "name": "stdout",
     "output_type": "stream",
     "text": [
      "Model: \"model\"\n",
      "_________________________________________________________________\n",
      " Layer (type)                Output Shape              Param #   \n",
      "=================================================================\n",
      " input_4 (InputLayer)        [(None, 28, 28, 1)]       0         \n",
      "                                                                 \n",
      " flatten_3 (Flatten)         (None, 784)               0         \n",
      "                                                                 \n",
      " dense_1 (Dense)             (None, 100)               78500     \n",
      "                                                                 \n",
      " dense_2 (Dense)             (None, 100)               10100     \n",
      "                                                                 \n",
      " dense_3 (Dense)             (None, 100)               10100     \n",
      "                                                                 \n",
      " dense_4 (Dense)             (None, 100)               10100     \n",
      "                                                                 \n",
      " final_softmax (Dense)       (None, 10)                1010      \n",
      "                                                                 \n",
      "=================================================================\n",
      "Total params: 109,810\n",
      "Trainable params: 109,810\n",
      "Non-trainable params: 0\n",
      "_________________________________________________________________\n",
      "None\n"
     ]
    },
    {
     "name": "stderr",
     "output_type": "stream",
     "text": [
      "  0%|          | 0/50 [00:00<?, ?epoch/s]"
     ]
    },
    {
     "name": "stdout",
     "output_type": "stream",
     "text": [
      "WARNING:tensorflow:Callback method `on_train_batch_end` is slow compared to the batch time (batch time: 0.0044s vs `on_train_batch_end` time: 0.0070s). Check your callbacks.\n"
     ]
    },
    {
     "name": "stderr",
     "output_type": "stream",
     "text": [
      "100%|██████████| 50/50 [01:17<00:00,  1.55s/epoch, loss=0.075, accuracy=0.978, val_loss=0.119, val_accuracy=0.963] \n"
     ]
    }
   ],
   "source": [
    "he_relu_model = create_model(init_weights=\"he_normal\", activation=\"relu\")\n",
    "he_relu_model.compile(optimizer=\"sgd\", loss=\"sparse_categorical_crossentropy\", metrics=[\"accuracy\"])\n",
    "print(he_relu_model.summary())\n",
    "\n",
    "# For tensorboard\n",
    "log_dir = \"logs/fit/01_init_he_relu/\" + datetime.datetime.now().strftime(\"%Y%m%d-%H%M%S\")\n",
    "tensorboard_callback = tf.keras.callbacks.TensorBoard(log_dir=log_dir, histogram_freq=1)\n",
    "\n",
    "he_relu_model_results = he_relu_model.fit(x_train, y_train,\n",
    "                epochs=50,\n",
    "                batch_size=256,\n",
    "                shuffle=True,\n",
    "                validation_data=(x_test, y_test),\n",
    "                callbacks=[tensorboard_callback, TqdmCallback(verbose=1)],\n",
    "                verbose=0,\n",
    ")\n",
    "# 1m 25sec"
   ]
  },
  {
   "cell_type": "code",
   "execution_count": 10,
   "metadata": {},
   "outputs": [
    {
     "data": {
      "text/plain": [
       "<AxesSubplot:xlabel='index', ylabel='val_accuracy'>"
      ]
     },
     "execution_count": 10,
     "metadata": {},
     "output_type": "execute_result"
    },
    {
     "data": {
      "image/png": "[encoded data removed]",
      "text/plain": [
       "<Figure size 1000x300 with 1 Axes>"
      ]
     },
     "metadata": {},
     "output_type": "display_data"
    }
   ],
   "source": [
    "# что получилось в итоге (можно посмотреть и без tensorboard)\n",
    "results_dict = {\n",
    "    \"uniform\":uniform_model_results,\n",
    "    \"glorot\":glorot_model_results,\n",
    "    \"uniform_relu\":xe_relu_model_results,\n",
    "    \"he_relu\":he_relu_model_results\n",
    "}\n",
    "\n",
    "rez_pdf = None\n",
    "for name, rez in results_dict.items():\n",
    "    tmp_pdf = pd.DataFrame(rez.history, index = rez.epoch)\n",
    "    tmp_pdf[\"name\"]=name\n",
    "\n",
    "    if rez_pdf is None:\n",
    "        rez_pdf=tmp_pdf.copy()\n",
    "    else:\n",
    "        rez_pdf = pd.concat([rez_pdf, tmp_pdf], axis=0)\n",
    "\n",
    "fig, ax = plt.subplots(figsize=(10, 3))\n",
    "sns.lineplot(data=rez_pdf.reset_index(drop=False), x=\"index\", y=\"val_accuracy\", hue=\"name\", ax=ax)\n"
   ]
  },
  {
   "attachments": {},
   "cell_type": "markdown",
   "metadata": {},
   "source": [
    "Как описанно в книге, корректно выбранная инициализация может получить большую точность в итоге и гораздо быстрее добраться до этой точности.\n",
    "На графиках это и видно, специально подобранная инициализация весов дала с первых же эпох обучения более высокир скор на валидационных данных.\n",
    "\n",
    "**В целом**:  \n",
    "* для симметричных функций активаций с нулевым средним (tanh) - более верным будет выбрать инициализацию Глорот Ксавье\n",
    "* для Relu и ему подобных - более верным будет выбрать инициализацию Хе (He - англ.)"
   ]
  },
  {
   "cell_type": "markdown",
   "metadata": {},
   "source": [
    "# Батч нормализация"
   ]
  },
  {
   "cell_type": "code",
   "execution_count": null,
   "metadata": {},
   "outputs": [],
   "source": []
  }
 ],
 "metadata": {
  "kernelspec": {
   "display_name": "Python 3.7.9 ('.venv': poetry)",
   "language": "python",
   "name": "python3"
  },
  "language_info": {
   "codemirror_mode": {
    "name": "ipython",
    "version": 3
   },
   "file_extension": ".py",
   "mimetype": "text/x-python",
   "name": "python",
   "nbconvert_exporter": "python",
   "pygments_lexer": "ipython3",
   "version": "3.8.10"
  },
  "orig_nbformat": 4,
  "vscode": {
   "interpreter": {
    "hash": "ed486ebbbdc0438c1b4f4b5b633ea9fe4615f70e6277031c76f6fe74793f32cc"
   }
  }
 },
 "nbformat": 4,
 "nbformat_minor": 2
}
