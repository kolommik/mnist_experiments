{
 "cells": [
  {
   "cell_type": "markdown",
   "metadata": {},
   "source": [
    "Здесь будет небольшое отступление от темы статей, просто попалась хорошая статья про способы снижения размерностей, для получения репрезентативного отображения.\n",
    "Там используются техники не нейросетевые, но может быть тоже интересно.\n",
    "\n",
    "## Полезные ссылки и литература\n",
    "\n",
    "\n",
    "#### Литература и ссылки из поста:\n",
    "Тот пост в свою очередь основан на главе про автоэнкодеры (в частности подглавы *Learning maifolds with autoencoders*) в *Deep Learning Book*:  \n",
    "http://www.deeplearningbook.org/contents/autoencoders.html  "
   ]
  },
  {
   "cell_type": "markdown",
   "metadata": {},
   "source": [
    "Здесь будет небольшое отступление от темы статей"
   ]
  }
 ],
 "metadata": {
  "kernelspec": {
   "display_name": "Python 3.7.9 ('.venv': poetry)",
   "language": "python",
   "name": "python3"
  },
  "language_info": {
   "name": "python",
   "version": "3.7.9"
  },
  "orig_nbformat": 4,
  "vscode": {
   "interpreter": {
    "hash": "ed486ebbbdc0438c1b4f4b5b633ea9fe4615f70e6277031c76f6fe74793f32cc"
   }
  }
 },
 "nbformat": 4,
 "nbformat_minor": 2
}
